{
 "cells": [
  {
   "cell_type": "code",
   "execution_count": 16,
   "metadata": {},
   "outputs": [],
   "source": [
    "import pandas as pd\n",
    "import numpy as np\n",
    "from sklearn.linear_model import LinearRegression\n",
    "from sklearn.linear_model import LogisticRegression\n",
    "import matplotlib.pyplot as plt\n",
    "import sqlite3"
   ]
  },
  {
   "cell_type": "code",
   "execution_count": 2,
   "metadata": {},
   "outputs": [],
   "source": [
    "#Example 1\n",
    "X = np.random.uniform(low=0,high=1, size=150)\n",
    "y = X + np.random.normal(loc=0, scale=0.1)\n",
    "y_cat = y.astype('str')\n",
    "y_cat[y<0.2] = 'Orange' \n",
    "y_cat[(y>=0.2)&(y<=0.8)] = 'Blue'\n",
    "y_cat[(y>0.8)] = 'Red'\n"
   ]
  },
  {
   "cell_type": "code",
   "execution_count": 4,
   "metadata": {},
   "outputs": [],
   "source": [
    "#Save the data\n",
    "train_data = pd.DataFrame({'Y':y_cat,'X':X})\n",
    "train_data.to_csv('Color_Classification.csv',index=False)"
   ]
  },
  {
   "cell_type": "code",
   "execution_count": 9,
   "metadata": {},
   "outputs": [],
   "source": [
    "#Get the stock data\n",
    "data_path = \"D:/Learning/projects/ANN Python/Daily data tushare/\"\n",
    "conn = sqlite3.connect(data_path+'DB.sqlite3')\n",
    "# hs300 is a stock index that covers 300 stocks in Shanghai and Shenzhen exchange\n",
    "sqlCommand = \"select * from stockData where date between '2015-01-01' and '2015-03-31'\"\n",
    "StockData = pd.read_sql(sqlCommand,conn)"
   ]
  },
  {
   "cell_type": "code",
   "execution_count": 13,
   "metadata": {},
   "outputs": [],
   "source": [
    "StockData[['code','date','open','close','high','low','volume']].to_csv('stock_data.csv',index=False)"
   ]
  },
  {
   "cell_type": "code",
   "execution_count": 14,
   "metadata": {},
   "outputs": [],
   "source": [
    "#Get the stock data\n",
    "data_path = \"D:/Learning/projects/ANN Python/Daily data tushare/\"\n",
    "conn = sqlite3.connect(data_path+'DB.sqlite3')\n",
    "# hs300 is a stock index that covers 300 stocks in Shanghai and Shenzhen exchange\n",
    "sqlCommand = \"select * from stockData where date between '2015-04-01' and '2015-04-30'\"\n",
    "StockData = pd.read_sql(sqlCommand,conn)"
   ]
  },
  {
   "cell_type": "code",
   "execution_count": 15,
   "metadata": {},
   "outputs": [],
   "source": [
    "StockData[['code','date','open','close','high','low','volume']].to_csv('test_stock_data.csv',index=False)"
   ]
  }
 ],
 "metadata": {
  "kernelspec": {
   "display_name": "Python 3",
   "language": "python",
   "name": "python3"
  },
  "language_info": {
   "codemirror_mode": {
    "name": "ipython",
    "version": 3
   },
   "file_extension": ".py",
   "mimetype": "text/x-python",
   "name": "python",
   "nbconvert_exporter": "python",
   "pygments_lexer": "ipython3",
   "version": "3.7.6"
  }
 },
 "nbformat": 4,
 "nbformat_minor": 4
}
